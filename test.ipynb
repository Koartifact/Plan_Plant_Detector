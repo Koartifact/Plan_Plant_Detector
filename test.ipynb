{
 "cells": [
  {
   "cell_type": "markdown",
   "metadata": {},
   "source": [
    "Test cord"
   ]
  },
  {
   "cell_type": "code",
   "execution_count": 82,
   "metadata": {},
   "outputs": [],
   "source": [
    "import json\n",
    "import glob"
   ]
  },
  {
   "cell_type": "code",
   "execution_count": 86,
   "metadata": {},
   "outputs": [
    {
     "ename": "KeyboardInterrupt",
     "evalue": "",
     "output_type": "error",
     "traceback": [
      "\u001b[1;31m---------------------------------------------------------------------------\u001b[0m",
      "\u001b[1;31mKeyboardInterrupt\u001b[0m                         Traceback (most recent call last)",
      "\u001b[1;32m~\\AppData\\Local\\Temp\\ipykernel_20016\\2659068870.py\u001b[0m in \u001b[0;36m<module>\u001b[1;34m\u001b[0m\n\u001b[0;32m     57\u001b[0m \u001b[1;33m\u001b[0m\u001b[0m\n\u001b[0;32m     58\u001b[0m         \u001b[1;32mwith\u001b[0m \u001b[0mopen\u001b[0m\u001b[1;33m(\u001b[0m\u001b[1;34mf'{json_name}.txt'\u001b[0m\u001b[1;33m,\u001b[0m \u001b[1;34m'w'\u001b[0m\u001b[1;33m)\u001b[0m \u001b[1;32mas\u001b[0m \u001b[0mf\u001b[0m\u001b[1;33m:\u001b[0m\u001b[1;33m\u001b[0m\u001b[0m\n\u001b[1;32m---> 59\u001b[1;33m             \u001b[0mf\u001b[0m\u001b[1;33m.\u001b[0m\u001b[0mwrite\u001b[0m\u001b[1;33m(\u001b[0m\u001b[0mresult\u001b[0m\u001b[1;33m)\u001b[0m\u001b[1;33m\u001b[0m\u001b[0m\n\u001b[0m\u001b[0;32m     60\u001b[0m \u001b[1;33m\u001b[0m\u001b[0m\n\u001b[0;32m     61\u001b[0m         \u001b[0mf\u001b[0m\u001b[1;33m.\u001b[0m\u001b[0mclose\u001b[0m\u001b[1;33m(\u001b[0m\u001b[1;33m)\u001b[0m\u001b[1;33m\u001b[0m\u001b[0m\n",
      "\u001b[1;31mKeyboardInterrupt\u001b[0m: "
     ]
    }
   ],
   "source": [
    "def convert(size, box):\n",
    "        dw = 1./size[0]\n",
    "        dh = 1./size[1]\n",
    "        x = (box[0] + box[1])/2.0\n",
    "        y = (box[2] + box[3])/2.0\n",
    "        w = box[1] - box[0]\n",
    "        h = box[3] - box[2]\n",
    "        x = round(x*dw, 6)\n",
    "        w = round(w*dw, 6)\n",
    "        y = round(y*dh, 6)\n",
    "        h = round(h*dh, 6)\n",
    "        return (x,y,w,h)\n",
    "\n",
    "def categorize(category):  \n",
    "\n",
    "    if category == 0:\n",
    "        return '0'\n",
    "    elif category == 15:\n",
    "        return '1'\n",
    "    else: \n",
    "        return 'False'\n",
    "        \n",
    "\n",
    "file_lists = glob.glob(r'F:/Big_Data/Yolo_Data/tomato_tra/**/**/*.Json', recursive=True)\n",
    "\n",
    "for path in file_lists:\n",
    "    json_name = path[:-9]\n",
    "\n",
    "    with open(f'{path}', encoding='utf-8') as f:\n",
    "       data = json.load(f)\n",
    "       f.close()\n",
    "    \n",
    "    bound = data['annotations']\n",
    "    point_ = bound['points']\n",
    "    point = point_[0]  \n",
    "    # 변수 size 에 json 파일에서 width, height value 리스트로 write \n",
    "    size = list()\n",
    "    size.append(data['description']['width'])\n",
    "    size.append(data['description']['height'])\n",
    "    \n",
    "        \n",
    "    type = categorize(bound['disease'])\n",
    "\n",
    "    if type !='False':\n",
    "                \n",
    "        # data 에서 points 에서 xtl, xbr, ytl, ybr value 리스트로 write\n",
    "               \n",
    "        x1 = point['xtl']\n",
    "        x2 = point['xbr']\n",
    "        y1 = point['ytl']\n",
    "        y2 = point['ybr']\n",
    "\n",
    "        box = [x1, x2, y1, y2]\n",
    "\n",
    "        yolo_bound = list(map(str,convert(size,box)))\n",
    "        result = type+' '+yolo_bound[0]+' '+yolo_bound[1]+' '+yolo_bound[2]+' '+yolo_bound[3]+'\\n'\n",
    "\n",
    "        with open(f'{json_name}.txt', 'w') as f:\n",
    "            f.write(result)\n",
    "\n",
    "        f.close()\n",
    "\n",
    "\n"
   ]
  }
 ],
 "metadata": {
  "kernelspec": {
   "display_name": "Python 3.7.0 ('yolov4-gpu')",
   "language": "python",
   "name": "python3"
  },
  "language_info": {
   "codemirror_mode": {
    "name": "ipython",
    "version": 3
   },
   "file_extension": ".py",
   "mimetype": "text/x-python",
   "name": "python",
   "nbconvert_exporter": "python",
   "pygments_lexer": "ipython3",
   "version": "3.7.0"
  },
  "orig_nbformat": 4,
  "vscode": {
   "interpreter": {
    "hash": "b78369cdbb40588d1684b8cf8ad68f8bb4575b1ba7bb73a15877097e125e8ab5"
   }
  }
 },
 "nbformat": 4,
 "nbformat_minor": 2
}
